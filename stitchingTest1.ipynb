{
 "cells": [
  {
   "cell_type": "code",
   "execution_count": 11,
   "metadata": {},
   "outputs": [],
   "source": [
    "import imutils\n",
    "import numpy as np\n",
    "import cv2\n",
    "import time"
   ]
  },
  {
   "cell_type": "code",
   "execution_count": 5,
   "metadata": {},
   "outputs": [],
   "source": [
    "class Stitcher:\n",
    "    def __init__(self):\n",
    "        self.isv3=imutils.is_cv3()\n",
    "    def stitch(self,images,ratio=0.75,reprojThresh=4.0,showMatches=False):\n",
    "        # Unpack the images then detect the keypoints and extract local invariant descriptors from them\n",
    "        (imageB,imageA)=images\n",
    "        (kpsA,featuresA)=self.detectAndDescribe(imageA)\n",
    "        (kpsB,featuresB)=self.detectAndDescribe(imageB)\n",
    "        \n",
    "        #match features between the two images\n",
    "        M=self.matchKeypoints(kpsA,kpsB,featuresA,featuresB,ratio,reprojThresh)\n",
    "        \n",
    "        #if the match is None, then there aren't enough matched keypoints to create a panorama\n",
    "        if M is None:\n",
    "            return None\n",
    "        \n",
    "        # otherwise, apply a perspective warp to stitch the images together\n",
    "        (matches,H,status)=M\n",
    "        result=cv2.warpPerspective(imageA,H,(imageA.shape[1]+imageB.shape[1],imageA.shape[0]))\n",
    "        result[0:imageB.shape[0],0:imageB.shape[1]]=imageB\n",
    "        \n",
    "        #check to see if the keypoint matches should be visualize\n",
    "        if showMatches:\n",
    "            vis=self.drawMatches(imageA,imageB,kpsA,kpsB,matches,status)\n",
    "            # return a tuple of the stitched image and the visualization\n",
    "            return (result,vis)\n",
    "        #return the stitched images\n",
    "        return result\n",
    "    \n",
    "    def detectAndDescribe(self,image):\n",
    "        # convert the image to grayscale\n",
    "        gray=cv2.cvtColor(image,cv2.COLOR_BGR2GRAY)\n",
    "        #check to see if we are using opencv 3.x\n",
    "        if self.isv3:\n",
    "            #detect and extract the features from image\n",
    "            descriptor=cv2.xfeatures2d.SIFT_create()\n",
    "            (kps,features)=descriptor.detectAndCompute(image,None)\n",
    "        # otherwise, we are using Opencv2.4.X\n",
    "        else:\n",
    "            #detect the keypoints in the image\n",
    "            detector=cv2.FeatureDetector_create('SIFT')\n",
    "            kps=detector.detect(gray)\n",
    "            \n",
    "            #extract features from keypoints in the image\n",
    "            extractor=cv2.DescriptorExtractor_create('SIFT')\n",
    "            (kps,features)=extractor.compute(gray,kps)\n",
    "            \n",
    "        #convert the keypoints from the keypoint objects to numpy arrays\n",
    "        kps=np.float32([kp.pt for kp in kps])\n",
    "        # return a tuple of keypoints and features\n",
    "        return (kps,features)\n",
    "    \n",
    "    def matchKeypoints(self,kpsA,kpsB,featuresA,featuresB,ratio,reprojThresh):\n",
    "        # compute the raw matches and initialize the list of actual matches\n",
    "        matcher=cv2.DescriptorMatcher_create(\"BruteForce\")\n",
    "        rawMatches=matcher.knnMatch(featuresA,featuresB,2)\n",
    "        matches=[]\n",
    "        \n",
    "        #loop over the raw matches\n",
    "        for m in rawMatches:\n",
    "            # ensure the distance is within a certain ratio of each other(i.e. Lowe's ratio test)\n",
    "            if len(m)==2 and m[0].distance<m[1].distance*ratio:\n",
    "                matches.append((m[0].trainIdx,m[1].queryIdx))\n",
    "        # computing a homography requires at least 4 matches\n",
    "        if len(matches)>4:\n",
    "            #construct the two sets of points\n",
    "            ptsA=np.float32([kpsA[i] for(_,i) in matches])\n",
    "            ptsB=np.float32([kpsB[i] for(i,_) in matches])\n",
    "            \n",
    "            #computes the homography between the two sets of points\n",
    "            (H,status)=cv2.findHomography(ptsA,ptsB,cv2.RANSAC,reprojThresh)\n",
    "            \n",
    "            #return the matches along with the homography matrix and status of each matched point\n",
    "            return (matches,H,status)\n",
    "        return None\n",
    "    \n",
    "    # visualize the keypoints corresponding between the two images\n",
    "    def drawMatches(self,imageA,imageB,kpsA,kpsB,matches,status):\n",
    "        #initialze the output visualization image\n",
    "        (hA,wA)=imageA.shape[:2]\n",
    "        (hB,wB)=imageB.shape[:2]\n",
    "        vis=np.zeros((max(hA,hB),wA+wB,3),dtype='uint8')\n",
    "        vis[0:hA,0:wA]=imageA\n",
    "        vis[0:hB,wA:]=imageB\n",
    "        \n",
    "        # loop over all the matches\n",
    "        for((trainIdx,queryIdx),s) in zip(matches,status):\n",
    "            #only process the match if the keypoints was sucessfully matched\n",
    "            if s==1:\n",
    "                #draw the match\n",
    "                ptA=(int(kpsA[queryIdx][0]),int(kpsA[queryIdx][1]))\n",
    "                ptB=(int(kpsB[trainIdx][0])+wA,int(kpsB[trainIdx][1]))\n",
    "                cv2.line(vis,ptA,ptB,(0,255,0),1)\n",
    "        return vis"
   ]
  },
  {
   "cell_type": "code",
   "execution_count": null,
   "metadata": {},
   "outputs": [],
   "source": [
    "imageA=cv2.imread('13.png')\n",
    "imageB=cv2.imread('14.png')\n",
    "imageA=imutils.resize(imageA,width=400)\n",
    "imageB=imutils.resize(imageB,width=400)\n",
    "\n",
    "\n",
    "stitcher=Stitcher()\n",
    "start=time.clock()\n",
    "(result,vis)=stitcher.stitch([imageA,imageB],showMatches=True)\n",
    "eclipse=(time.clock()-start)\n",
    "\n",
    "cv2.imshow('ImageA',imageA)\n",
    "cv2.imshow('ImageB',imageB)\n",
    "cv2.imshow('Keypoints',vis)\n",
    "cv2.imshow('Result',result)\n",
    "#cv2.imwrite('00_11_02.jpg',result)\n",
    "cv2.waitKey(0)"
   ]
  },
  {
   "cell_type": "code",
   "execution_count": 35,
   "metadata": {},
   "outputs": [],
   "source": [
    "cv2.destroyAllWindows()"
   ]
  },
  {
   "cell_type": "code",
   "execution_count": 3,
   "metadata": {},
   "outputs": [
    {
     "data": {
      "text/plain": [
       "<xfeatures2d_SIFT 000001E353F7A950>"
      ]
     },
     "execution_count": 3,
     "metadata": {},
     "output_type": "execute_result"
    }
   ],
   "source": [
    "cv2.xfeatures2d.SIFT_create()"
   ]
  },
  {
   "cell_type": "code",
   "execution_count": 14,
   "metadata": {},
   "outputs": [
    {
     "data": {
      "text/plain": [
       "0.6779585215931885"
      ]
     },
     "execution_count": 14,
     "metadata": {},
     "output_type": "execute_result"
    }
   ],
   "source": [
    "eclipse"
   ]
  },
  {
   "cell_type": "code",
   "execution_count": null,
   "metadata": {},
   "outputs": [],
   "source": []
  }
 ],
 "metadata": {
  "kernelspec": {
   "display_name": "Python 3",
   "language": "python",
   "name": "python3"
  }
 },
 "nbformat": 4,
 "nbformat_minor": 2
}
